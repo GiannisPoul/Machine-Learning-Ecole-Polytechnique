{
 "cells": [
  {
   "cell_type": "markdown",
   "metadata": {
    "id": "SCIo5COiZR65"
   },
   "source": [
    "<h1><b>Ο Αλγόριθμος Γραμμικής Παλινδρόμησης (Linear Regression)</b></h1>\n",
    "\n",
    "<p align=\"justify\">Στην άσκηση αυτή θα μελετήσετε τον αλγόριθμο <i>γραμμικής παλινδρόμησης (linear regression)</i>, αναπτύσσοντας ένα δικό σας πρόγραμμα Python που υλοποιεί όλες τις απαραίτητες ενέργειες, χωρίς να χρησιμοποιήσετε κάποια βιβλιοθήκη της Python που υλοποιεί το μοντέλο <i>linear regression</i>, όπως είναι η <i>Scikit-Learn</i>.</p>\n",
    "\n",
    "<p align=\"justify\">Αρχικά παρέχονται δύο αρχεία με δεδομένα εκπαίδευσης: (α) <i><a href=\"https://github.com/nkostopoulos/StochasticsLabPublic/blob/master/lab1/data1a.csv\">data1a.csv</a></i> και (β) <i><a href=\"https://github.com/nkostopoulos/StochasticsLabPublic/blob/master/lab1/data1b.csv\">data1b.csv</a></i>. Κάθε γραμμή του αρχείου <i>data1a.csv</i> περιλαμβάνει πληροφορίες που αφορούν τη θέαση video στο <i>YouTube</i>, όπως <i>τίτλος</i>, <i>αριθμός views</i>, <i>likes</i>, <i>dislikes</i>, κτλ. Συνολικά, το αρχείο <i>data1a.csv</i> περιλαμβάνει 11 στήλες. Περισσότερες πληροφορίες για το αρχείο <i>data1a.csv</i> μπορούν να αναζητηθούν <a href=\"https://www.kaggle.com/akanshasingh/us-videos-csv\">εδώ</a>. Το αρχείο <i>data1b.csv</i> περιλαμβάνει 2 στήλες με επικεφαλίδες x και y αντίστοιχα. Οι τιμές αυτές δεν έχουν κάποια φυσική σημασία. Περισσότερες πληροφορίες μπορούν να βρεθούν <a href=\"https://www.kaggle.com/testpython/linear-regression-with-single-variable\">εδώ</a>.</p>\n",
    "\n",
    "<p align=\"justify\">Σκοπός της άσκησης είναι να αναπτύξετε ένα μοντέλο απλής (simple) <i>linear regression</i>, το οποίο θα είναι σε θέση να εκτιμά (α) για την περίπτωση του αρχείου <i>data1a.csv</i> τον αριθμό των <i>views</i> (εξαρτημένη μεταβλητή) ενός video βάσει του αριθμού των <i>likes</i> (ανεξάρτητη μεταβλητή) που αυτό έχει πάρει και (β) για την περίπτωση του αρχείου <i>data1b.csv</i> την τιμή της μεταβλητής y βάσει των τιμών της μεταβλητής x. Να αναπτύξετε ένα ενιαίο πρόγραμμα που να κάνει τα παρακάτω:</p>\n",
    "<ul>\n",
    "<li>Θα φορτώνει τα δεδομένα από τα αρχεία .csv και θα απομονώνει τις στήλες που έχουν σημασία, δηλαδή στην περίπτωση του αρχείου data1a.csv τις στήλες με επικεφαλίδες views και likes και στην περίπτωση του αρχείου data1b.csv τις στήλες με επικεφαλίδες y και x.</li>\n",
    "<li>Θα υπολογίζει τη συσχέτιση (correlation) ανάμεσα στην ανεξάρτητη και εξαρτημένη μεταβλητή των δεδομένων που παρέχονται. Το βήμα αυτό είναι απαραίτητο για να εξακριβωθεί ποιος είναι ο βαθμός γραμμικής εξάρτησης ανάμεσα στις δύο μεταβλητές. Ποιο είναι το correlation που προκύπτει στις δύο περιπτώσεις; Είναι ικανοποιητική η γραμμική εξάρτηση των δύο μεταβλητών; Για το ερώτημα αυτό να μελετήσετε την πηγή <a href=\"https://en.wikipedia.org/wiki/Correlation_and_dependence\">εδώ</a>.</li>\n",
    "<li>Θα απεικονίζει τα σημεία που προκύπτουν ως ζεύγη της ανεξάρτητης και εξαρτημένης μεταβλητής που απομονώθηκαν στο πρώτο ερώτημα. Τι παρατηρείτε σε σχέση με τα συμπεράσματα που βγάλατε στο δεύτερο ερώτημα;</li>\n",
    "<li>Θα κανονικοποιεί τα δεδομένα που παρέχονται με τη μέθοδο min-max normalization. Περισσότερες πληροφορίες για τη μέθοδο αυτή μπορούν να βρεθούν <a href=\"https://en.wikipedia.org/wiki/Feature_scaling\">εδώ</a>.</li>\n",
    "<li>Θα υποδιαιρεί τα δεδομένα που παρέχονται με τυχαίο τρόπο σε δύο υποσύνολα: (α) το training set που περιλαμβάνει τα δεδομένα που θα χρησιμοποιηθούν για την εκπαίδευση του μοντέλου και (β) το test set που περιλαμβάνει τα δεδομένα που θα χρησιμοποιηθούν για τον υπολογισμό της ακρίβειας του μοντέλου. Ο χρήστης θα ορίζει το ποσοστό του κάθε αρχείου σε σχέση με το αρχικό.</li>\n",
    "<li>Θα υπολογίζει τις παραμέτρους του μοντέλου linear regression, χρησιμοποιώντας τη μέθοδο Stochastic Gradient Descent (SGD). Για το σκοπό αυτό, ο χρήστης θα πρέπει να ορίζει το ρυθμό μάθησης (learning rate) και το συνολικό αριθμό των εποχών (epochs) εκπαίδευσης. Να θεωρήσετε ότι οι αρχικές τιμές των παραμέτρων είναι μηδενικές.</li>\n",
    "<li>Θα υπολογίζει το μέσο τετραγωνικό σφάλμα (mean squared error) των προβλέψεων πάνω στο test set. Περισσότερες πληροφορίες μπορούν να βρεθούν <a href=\"https://en.wikipedia.org/wiki/Mean_squared_error\">εδώ</a>.</li>\n",
    "</ul>\n",
    "\n",
    "<p align=\"justify\">Να θεωρήσετε ότι το test set είναι το 20% του αρχικού dataset. Τι παρατηρείτε ότι συμβαίνει στην περίπτωση που δε γίνει κανονικοποίηση των δεδομένων; Πειραματιστείτε με τις τιμές του ρυθμού μάθησης και τον αριθμό των εποχών για να δείτε πώς αλλάζει το μέσο τετραγωνικό σφάλμα.<p>"
   ]
  },
  {
   "cell_type": "code",
   "execution_count": 81,
   "metadata": {
    "id": "-Mh1rOPC1eV1"
   },
   "outputs": [
    {
     "name": "stdout",
     "output_type": "stream",
     "text": [
      "Requirement already satisfied: numpy in c:\\users\\vassi\\anaconda3\\lib\\site-packages (1.20.3)\n",
      "Requirement already satisfied: matplotlib in c:\\users\\vassi\\anaconda3\\lib\\site-packages (3.4.3)\n",
      "Requirement already satisfied: pillow>=6.2.0 in c:\\users\\vassi\\anaconda3\\lib\\site-packages (from matplotlib) (8.4.0)\n",
      "Requirement already satisfied: kiwisolver>=1.0.1 in c:\\users\\vassi\\anaconda3\\lib\\site-packages (from matplotlib) (1.3.1)\n",
      "Requirement already satisfied: cycler>=0.10 in c:\\users\\vassi\\anaconda3\\lib\\site-packages (from matplotlib) (0.10.0)\n",
      "Requirement already satisfied: python-dateutil>=2.7 in c:\\users\\vassi\\anaconda3\\lib\\site-packages (from matplotlib) (2.8.2)\n",
      "Requirement already satisfied: numpy>=1.16 in c:\\users\\vassi\\anaconda3\\lib\\site-packages (from matplotlib) (1.20.3)\n",
      "Requirement already satisfied: pyparsing>=2.2.1 in c:\\users\\vassi\\anaconda3\\lib\\site-packages (from matplotlib) (3.0.4)\n",
      "Requirement already satisfied: six in c:\\users\\vassi\\anaconda3\\lib\\site-packages (from cycler>=0.10->matplotlib) (1.16.0)\n",
      "Requirement already satisfied: pandas in c:\\users\\vassi\\anaconda3\\lib\\site-packages (1.3.4)\n",
      "Requirement already satisfied: python-dateutil>=2.7.3 in c:\\users\\vassi\\anaconda3\\lib\\site-packages (from pandas) (2.8.2)\n",
      "Requirement already satisfied: numpy>=1.17.3 in c:\\users\\vassi\\anaconda3\\lib\\site-packages (from pandas) (1.20.3)\n",
      "Requirement already satisfied: pytz>=2017.3 in c:\\users\\vassi\\anaconda3\\lib\\site-packages (from pandas) (2021.3)\n",
      "Requirement already satisfied: six>=1.5 in c:\\users\\vassi\\anaconda3\\lib\\site-packages (from python-dateutil>=2.7.3->pandas) (1.16.0)\n"
     ]
    }
   ],
   "source": [
    "!pip install numpy\n",
    "!pip install matplotlib\n",
    "!pip install pandas\n",
    "\n",
    "import numpy as np\n",
    "import matplotlib.pyplot as plt\n",
    "import pandas as pd\n",
    "\n",
    "from sklearn.model_selection import train_test_split"
   ]
  },
  {
   "cell_type": "markdown",
   "metadata": {},
   "source": [
    "### 1o Dataset"
   ]
  },
  {
   "cell_type": "code",
   "execution_count": 82,
   "metadata": {
    "id": "Gi6eokNdf30g",
    "scrolled": false
   },
   "outputs": [],
   "source": [
    "datas = pd.read_csv('data1a.csv')"
   ]
  },
  {
   "cell_type": "code",
   "execution_count": 83,
   "metadata": {},
   "outputs": [
    {
     "data": {
      "text/plain": [
       "Index(['video_id', 'title', 'channel_title', 'category_id', 'tags', 'views',\n",
       "       'likes', 'dislikes', 'comment_total', 'thumbnail_link', 'date'],\n",
       "      dtype='object')"
      ]
     },
     "execution_count": 83,
     "metadata": {},
     "output_type": "execute_result"
    }
   ],
   "source": [
    "datas.columns"
   ]
  },
  {
   "cell_type": "code",
   "execution_count": 84,
   "metadata": {},
   "outputs": [],
   "source": [
    "datas = datas[['likes', 'views']]\n"
   ]
  },
  {
   "cell_type": "code",
   "execution_count": 85,
   "metadata": {
    "id": "ii1-WiYOf8Uo",
    "scrolled": true
   },
   "outputs": [
    {
     "data": {
      "text/html": [
       "<div>\n",
       "<style scoped>\n",
       "    .dataframe tbody tr th:only-of-type {\n",
       "        vertical-align: middle;\n",
       "    }\n",
       "\n",
       "    .dataframe tbody tr th {\n",
       "        vertical-align: top;\n",
       "    }\n",
       "\n",
       "    .dataframe thead th {\n",
       "        text-align: right;\n",
       "    }\n",
       "</style>\n",
       "<table border=\"1\" class=\"dataframe\">\n",
       "  <thead>\n",
       "    <tr style=\"text-align: right;\">\n",
       "      <th></th>\n",
       "      <th>likes</th>\n",
       "      <th>views</th>\n",
       "    </tr>\n",
       "  </thead>\n",
       "  <tbody>\n",
       "    <tr>\n",
       "      <th>likes</th>\n",
       "      <td>1.000000</td>\n",
       "      <td>0.832853</td>\n",
       "    </tr>\n",
       "    <tr>\n",
       "      <th>views</th>\n",
       "      <td>0.832853</td>\n",
       "      <td>1.000000</td>\n",
       "    </tr>\n",
       "  </tbody>\n",
       "</table>\n",
       "</div>"
      ],
      "text/plain": [
       "          likes     views\n",
       "likes  1.000000  0.832853\n",
       "views  0.832853  1.000000"
      ]
     },
     "execution_count": 85,
     "metadata": {},
     "output_type": "execute_result"
    }
   ],
   "source": [
    "datas.corr(method ='pearson')"
   ]
  },
  {
   "cell_type": "code",
   "execution_count": 86,
   "metadata": {
    "scrolled": true
   },
   "outputs": [
    {
     "data": {
      "image/png": "[encoded data removed]",
      "text/plain": [
       "<Figure size 432x288 with 1 Axes>"
      ]
     },
     "metadata": {
      "needs_background": "light"
     },
     "output_type": "display_data"
    }
   ],
   "source": [
    "plt.scatter(datas['likes'], datas['views'])\n",
    "plt.grid()\n",
    "plt.xlabel(\"likes\")\n",
    "plt.ylabel(\"views\")\n",
    "plt.title(\"Views vs Likes\")\n",
    "plt.yscale(\"log\")\n",
    "plt.xscale(\"log\")"
   ]
  },
  {
   "cell_type": "code",
   "execution_count": 87,
   "metadata": {},
   "outputs": [],
   "source": [
    "from sklearn.linear_model import SGDRegressor\n",
    "from sklearn.metrics import mean_squared_error\n",
    "from sklearn.model_selection import train_test_split\n",
    "from sklearn.preprocessing import minmax_scale"
   ]
  },
  {
   "cell_type": "code",
   "execution_count": 88,
   "metadata": {},
   "outputs": [],
   "source": [
    "likes = np.array(datas[\"likes\"])\n",
    "views = np.array(datas[\"views\"])\n",
    "likes = likes.reshape(-1, 1)"
   ]
  },
  {
   "cell_type": "code",
   "execution_count": 89,
   "metadata": {},
   "outputs": [],
   "source": [
    "normalized_likes = minmax_scale(likes)\n",
    "normalized_views = minmax_scale(views)"
   ]
  },
  {
   "cell_type": "code",
   "execution_count": 90,
   "metadata": {},
   "outputs": [],
   "source": [
    "x_train, x_test, y_train, y_test = train_test_split(normalized_likes, normalized_views, test_size=0.20)"
   ]
  },
  {
   "cell_type": "code",
   "execution_count": 91,
   "metadata": {},
   "outputs": [
    {
     "data": {
      "text/html": [
       "<div>\n",
       "<style scoped>\n",
       "    .dataframe tbody tr th:only-of-type {\n",
       "        vertical-align: middle;\n",
       "    }\n",
       "\n",
       "    .dataframe tbody tr th {\n",
       "        vertical-align: top;\n",
       "    }\n",
       "\n",
       "    .dataframe thead th {\n",
       "        text-align: right;\n",
       "    }\n",
       "</style>\n",
       "<table border=\"1\" class=\"dataframe\">\n",
       "  <thead>\n",
       "    <tr style=\"text-align: right;\">\n",
       "      <th></th>\n",
       "      <th>0</th>\n",
       "      <th>views</th>\n",
       "    </tr>\n",
       "  </thead>\n",
       "  <tbody>\n",
       "    <tr>\n",
       "      <th>0</th>\n",
       "      <td>0.002225</td>\n",
       "      <td>0.001515</td>\n",
       "    </tr>\n",
       "    <tr>\n",
       "      <th>1</th>\n",
       "      <td>0.001946</td>\n",
       "      <td>0.006741</td>\n",
       "    </tr>\n",
       "    <tr>\n",
       "      <th>2</th>\n",
       "      <td>0.002279</td>\n",
       "      <td>0.001992</td>\n",
       "    </tr>\n",
       "  </tbody>\n",
       "</table>\n",
       "</div>"
      ],
      "text/plain": [
       "          0     views\n",
       "0  0.002225  0.001515\n",
       "1  0.001946  0.006741\n",
       "2  0.002279  0.001992"
      ]
     },
     "execution_count": 91,
     "metadata": {},
     "output_type": "execute_result"
    }
   ],
   "source": [
    "train_data = pd.DataFrame(x_train)\n",
    "train_data['views'] = y_train\n",
    "x_test=np.array(x_test)\n",
    "y_test=np.array(y_test)\n",
    "train_data.head(3)"
   ]
  },
  {
   "cell_type": "code",
   "execution_count": 92,
   "metadata": {},
   "outputs": [],
   "source": [
    "# n_iter: # of epochs\n",
    "# divideby: a number to divide the lerning rate at the end of an epoch (=1 if we want constant learning rate)\n",
    "def sgd_regression(train_data,learning_rate,n_iter,k,divideby):\n",
    "    \n",
    "    # Initially we will keep our W and B as 0 as per the Training Data\n",
    "    w=np.zeros(shape=(1,train_data.shape[1]-1))\n",
    "    b=0\n",
    "    \n",
    "    cur_iter=1\n",
    "    while(cur_iter<=n_iter): \n",
    "\n",
    "        # We will create a small training data set of size K\n",
    "        temp=train_data.sample(k)\n",
    "        \n",
    "        # We create our X and Y from the above temp dataset\n",
    "        y=np.array(temp['views'])\n",
    "        x=np.array(temp.drop('views',axis=1))\n",
    "        \n",
    "        # We keep our initial gradients as 0\n",
    "        w_gradient=np.zeros(shape=(1,train_data.shape[1]-1))\n",
    "        b_gradient=0\n",
    "        \n",
    "        for i in range(k): # Calculating gradients for point in our K sized dataset\n",
    "            prediction=np.dot(w,x[i])+b\n",
    "            w_gradient=w_gradient+(-2)*x[i]*(y[i]-(prediction))\n",
    "            b_gradient=b_gradient+(-2)*(y[i]-(prediction))\n",
    "        \n",
    "        #Updating the weights(W) and Bias(b) with the above calculated Gradients\n",
    "        w=w-learning_rate*(w_gradient/k)\n",
    "        b=b-learning_rate*(b_gradient/k)\n",
    "        \n",
    "        # Incrementing the iteration value\n",
    "        cur_iter=cur_iter+1\n",
    "        \n",
    "        #Dividing the learning rate by the specified value\n",
    "        learning_rate=learning_rate/divideby\n",
    "        \n",
    "    return w,b #Returning the weights and Bias"
   ]
  },
  {
   "cell_type": "code",
   "execution_count": 93,
   "metadata": {},
   "outputs": [],
   "source": [
    "def sgd_predict(x,w,b):\n",
    "    y_pred=[]\n",
    "    for i in range(len(x)):\n",
    "        y=np.ndarray.item(np.dot(w,x[i])+b)\n",
    "        y_pred.append(y)\n",
    "    return np.array(y_pred)"
   ]
  },
  {
   "cell_type": "code",
   "execution_count": 94,
   "metadata": {},
   "outputs": [
    {
     "data": {
      "image/png": "[encoded data removed]",
      "text/plain": [
       "<Figure size 432x288 with 1 Axes>"
      ]
     },
     "metadata": {
      "needs_background": "light"
     },
     "output_type": "display_data"
    },
    {
     "name": "stdout",
     "output_type": "stream",
     "text": [
      "Mean Squared Error : 0.0022527413408660333\n"
     ]
    }
   ],
   "source": [
    "w, b = sgd_regression(train_data,learning_rate=1,n_iter=100,divideby=2,k=10)\n",
    "y_pred_customsgd=sgd_predict(x_test,w,b)\n",
    "\n",
    "plt.scatter(y_test,y_pred_customsgd)\n",
    "plt.grid()\n",
    "plt.xlabel('Actual y')\n",
    "plt.ylabel('Predicted y')\n",
    "plt.title('Scatter plot from actual y and predicted y')\n",
    "plt.show()\n",
    "print('Mean Squared Error :',mean_squared_error(y_test, y_pred_customsgd))"
   ]
  },
  {
   "cell_type": "markdown",
   "metadata": {},
   "source": [
    "Un-normalized Data"
   ]
  },
  {
   "cell_type": "code",
   "execution_count": 95,
   "metadata": {},
   "outputs": [],
   "source": [
    "x_train, x_test, y_train, y_test = train_test_split(likes, views, test_size=0.20)"
   ]
  },
  {
   "cell_type": "code",
   "execution_count": 96,
   "metadata": {},
   "outputs": [
    {
     "data": {
      "text/html": [
       "<div>\n",
       "<style scoped>\n",
       "    .dataframe tbody tr th:only-of-type {\n",
       "        vertical-align: middle;\n",
       "    }\n",
       "\n",
       "    .dataframe tbody tr th {\n",
       "        vertical-align: top;\n",
       "    }\n",
       "\n",
       "    .dataframe thead th {\n",
       "        text-align: right;\n",
       "    }\n",
       "</style>\n",
       "<table border=\"1\" class=\"dataframe\">\n",
       "  <thead>\n",
       "    <tr style=\"text-align: right;\">\n",
       "      <th></th>\n",
       "      <th>0</th>\n",
       "      <th>views</th>\n",
       "    </tr>\n",
       "  </thead>\n",
       "  <tbody>\n",
       "    <tr>\n",
       "      <th>0</th>\n",
       "      <td>197</td>\n",
       "      <td>62411</td>\n",
       "    </tr>\n",
       "    <tr>\n",
       "      <th>1</th>\n",
       "      <td>535</td>\n",
       "      <td>567964</td>\n",
       "    </tr>\n",
       "    <tr>\n",
       "      <th>2</th>\n",
       "      <td>3204</td>\n",
       "      <td>66964</td>\n",
       "    </tr>\n",
       "  </tbody>\n",
       "</table>\n",
       "</div>"
      ],
      "text/plain": [
       "      0   views\n",
       "0   197   62411\n",
       "1   535  567964\n",
       "2  3204   66964"
      ]
     },
     "execution_count": 96,
     "metadata": {},
     "output_type": "execute_result"
    }
   ],
   "source": [
    "train_data = pd.DataFrame(x_train)\n",
    "train_data['views'] = y_train\n",
    "x_test=np.array(x_test)\n",
    "y_test=np.array(y_test)\n",
    "train_data.head(3)"
   ]
  },
  {
   "cell_type": "code",
   "execution_count": 97,
   "metadata": {},
   "outputs": [
    {
     "data": {
      "image/png": "[encoded data removed]",
      "text/plain": [
       "<Figure size 432x288 with 1 Axes>"
      ]
     },
     "metadata": {
      "needs_background": "light"
     },
     "output_type": "display_data"
    },
    {
     "name": "stdout",
     "output_type": "stream",
     "text": [
      "Mean Squared Error : inf\n"
     ]
    },
    {
     "name": "stderr",
     "output_type": "stream",
     "text": [
      "C:\\Users\\vassi\\anaconda3\\lib\\site-packages\\sklearn\\metrics\\_regression.py:338: RuntimeWarning: overflow encountered in square\n",
      "  output_errors = np.average((y_true - y_pred) ** 2, axis=0,\n"
     ]
    }
   ],
   "source": [
    "w, b = sgd_regression(train_data,learning_rate=1,n_iter=100,divideby=2,k=10)\n",
    "y_pred_customsgd=sgd_predict(x_test,w,b)\n",
    "\n",
    "plt.scatter(y_test,y_pred_customsgd)\n",
    "plt.grid()\n",
    "plt.xlabel('Actual y')\n",
    "plt.ylabel('Predicted y')\n",
    "plt.title('Scatter plot from actual y and predicted y')\n",
    "plt.show()\n",
    "print('Mean Squared Error :',mean_squared_error(y_test, y_pred_customsgd))"
   ]
  },
  {
   "cell_type": "markdown",
   "metadata": {},
   "source": [
    "### 2ο Dataset"
   ]
  },
  {
   "cell_type": "code",
   "execution_count": 98,
   "metadata": {},
   "outputs": [
    {
     "data": {
      "text/html": [
       "<div>\n",
       "<style scoped>\n",
       "    .dataframe tbody tr th:only-of-type {\n",
       "        vertical-align: middle;\n",
       "    }\n",
       "\n",
       "    .dataframe tbody tr th {\n",
       "        vertical-align: top;\n",
       "    }\n",
       "\n",
       "    .dataframe thead th {\n",
       "        text-align: right;\n",
       "    }\n",
       "</style>\n",
       "<table border=\"1\" class=\"dataframe\">\n",
       "  <thead>\n",
       "    <tr style=\"text-align: right;\">\n",
       "      <th></th>\n",
       "      <th>x</th>\n",
       "      <th>y</th>\n",
       "    </tr>\n",
       "  </thead>\n",
       "  <tbody>\n",
       "    <tr>\n",
       "      <th>0</th>\n",
       "      <td>24</td>\n",
       "      <td>21.549452</td>\n",
       "    </tr>\n",
       "    <tr>\n",
       "      <th>1</th>\n",
       "      <td>50</td>\n",
       "      <td>47.464463</td>\n",
       "    </tr>\n",
       "    <tr>\n",
       "      <th>2</th>\n",
       "      <td>15</td>\n",
       "      <td>17.218656</td>\n",
       "    </tr>\n",
       "  </tbody>\n",
       "</table>\n",
       "</div>"
      ],
      "text/plain": [
       "    x          y\n",
       "0  24  21.549452\n",
       "1  50  47.464463\n",
       "2  15  17.218656"
      ]
     },
     "execution_count": 98,
     "metadata": {},
     "output_type": "execute_result"
    }
   ],
   "source": [
    "datas = pd.read_csv('data1b.csv')\n",
    "datas.head(3)"
   ]
  },
  {
   "cell_type": "code",
   "execution_count": 99,
   "metadata": {
    "scrolled": true
   },
   "outputs": [
    {
     "data": {
      "text/html": [
       "<div>\n",
       "<style scoped>\n",
       "    .dataframe tbody tr th:only-of-type {\n",
       "        vertical-align: middle;\n",
       "    }\n",
       "\n",
       "    .dataframe tbody tr th {\n",
       "        vertical-align: top;\n",
       "    }\n",
       "\n",
       "    .dataframe thead th {\n",
       "        text-align: right;\n",
       "    }\n",
       "</style>\n",
       "<table border=\"1\" class=\"dataframe\">\n",
       "  <thead>\n",
       "    <tr style=\"text-align: right;\">\n",
       "      <th></th>\n",
       "      <th>x</th>\n",
       "      <th>y</th>\n",
       "    </tr>\n",
       "  </thead>\n",
       "  <tbody>\n",
       "    <tr>\n",
       "      <th>x</th>\n",
       "      <td>1.000000</td>\n",
       "      <td>0.995071</td>\n",
       "    </tr>\n",
       "    <tr>\n",
       "      <th>y</th>\n",
       "      <td>0.995071</td>\n",
       "      <td>1.000000</td>\n",
       "    </tr>\n",
       "  </tbody>\n",
       "</table>\n",
       "</div>"
      ],
      "text/plain": [
       "          x         y\n",
       "x  1.000000  0.995071\n",
       "y  0.995071  1.000000"
      ]
     },
     "execution_count": 99,
     "metadata": {},
     "output_type": "execute_result"
    }
   ],
   "source": [
    "datas.corr(method ='pearson')"
   ]
  },
  {
   "cell_type": "code",
   "execution_count": 100,
   "metadata": {},
   "outputs": [
    {
     "data": {
      "text/plain": [
       "Text(0.5, 1.0, 'Scatter Plot')"
      ]
     },
     "execution_count": 100,
     "metadata": {},
     "output_type": "execute_result"
    },
    {
     "data": {
      "image/png": "[encoded data removed]",
      "text/plain": [
       "<Figure size 432x288 with 1 Axes>"
      ]
     },
     "metadata": {
      "needs_background": "light"
     },
     "output_type": "display_data"
    }
   ],
   "source": [
    "plt.scatter(datas['x'], datas['y'])\n",
    "plt.grid()\n",
    "plt.xlabel(\"x\")\n",
    "plt.ylabel(\"y\")\n",
    "plt.title(\"Scatter Plot\")"
   ]
  },
  {
   "cell_type": "code",
   "execution_count": 101,
   "metadata": {},
   "outputs": [],
   "source": [
    "x = np.array(datas[\"x\"])\n",
    "y = np.array(datas[\"y\"])\n",
    "x = x.reshape(-1, 1)"
   ]
  },
  {
   "cell_type": "code",
   "execution_count": 102,
   "metadata": {},
   "outputs": [],
   "source": [
    "normalized_x = minmax_scale(x)\n",
    "normalized_y = minmax_scale(y)"
   ]
  },
  {
   "cell_type": "code",
   "execution_count": 103,
   "metadata": {},
   "outputs": [],
   "source": [
    "x_train, x_test, y_train, y_test = train_test_split(normalized_x, normalized_y, test_size=0.20)"
   ]
  },
  {
   "cell_type": "code",
   "execution_count": 104,
   "metadata": {},
   "outputs": [],
   "source": [
    "train_data = pd.DataFrame(x_train, y_train)\n",
    "train_data['y'] = y_train\n",
    "x_test=np.array(x_test)\n",
    "y_test=np.array(y_test)"
   ]
  },
  {
   "cell_type": "code",
   "execution_count": 105,
   "metadata": {},
   "outputs": [],
   "source": [
    "def sgd_regression(train_data,learning_rate,n_iter,k,divideby):\n",
    "    \n",
    "    # Initially we will keep our W and B as 0 as per the Training Data\n",
    "    w=np.zeros(shape=(1,train_data.shape[1]-1))\n",
    "    b=0\n",
    "    \n",
    "    cur_iter=1\n",
    "    while(cur_iter<=n_iter): \n",
    "\n",
    "        # We will create a small training data set of size K\n",
    "        temp=train_data.sample(k)\n",
    "        \n",
    "        # We create our X and Y from the above temp dataset\n",
    "        y=np.array(temp['y'])\n",
    "        x=np.array(temp.drop('y',axis=1))\n",
    "        \n",
    "        # We keep our initial gradients as 0\n",
    "        w_gradient=np.zeros(shape=(1,train_data.shape[1]-1))\n",
    "        b_gradient=0\n",
    "        \n",
    "        for i in range(k): # Calculating gradients for point in our K sized dataset\n",
    "            prediction=np.dot(w,x[i])+b\n",
    "            w_gradient=w_gradient+(-2)*x[i]*(y[i]-(prediction))\n",
    "            b_gradient=b_gradient+(-2)*(y[i]-(prediction))\n",
    "        \n",
    "        #Updating the weights(W) and Bias(b) with the above calculated Gradients\n",
    "        w=w-learning_rate*(w_gradient/k)\n",
    "        b=b-learning_rate*(b_gradient/k)\n",
    "        \n",
    "        # Incrementing the iteration value\n",
    "        cur_iter=cur_iter+1\n",
    "        \n",
    "        #Dividing the learning rate by the specified value\n",
    "        learning_rate=learning_rate/divideby\n",
    "        \n",
    "    return w,b #Returning the weights and Bias"
   ]
  },
  {
   "cell_type": "code",
   "execution_count": 106,
   "metadata": {},
   "outputs": [
    {
     "data": {
      "image/png": "[encoded data removed]",
      "text/plain": [
       "<Figure size 432x288 with 1 Axes>"
      ]
     },
     "metadata": {
      "needs_background": "light"
     },
     "output_type": "display_data"
    },
    {
     "name": "stdout",
     "output_type": "stream",
     "text": [
      "Mean Squared Error : 0.028080274118183247\n"
     ]
    }
   ],
   "source": [
    "w, b = sgd_regression(train_data,learning_rate=1,n_iter=100,divideby=2,k=10)\n",
    "y_pred_customsgd=sgd_predict(x_test,w,b)\n",
    "\n",
    "plt.scatter(y_test,y_pred_customsgd)\n",
    "plt.grid()\n",
    "plt.xlabel('Actual y')\n",
    "plt.ylabel('Predicted y')\n",
    "plt.title('Scatter plot from actual y and predicted y')\n",
    "plt.show()\n",
    "print('Mean Squared Error :',mean_squared_error(y_test, y_pred_customsgd))"
   ]
  },
  {
   "cell_type": "markdown",
   "metadata": {},
   "source": [
    "### Un-normalized data"
   ]
  },
  {
   "cell_type": "code",
   "execution_count": 107,
   "metadata": {},
   "outputs": [],
   "source": [
    "x_train, x_test, y_train, y_test = train_test_split(x, y, test_size=0.20)"
   ]
  },
  {
   "cell_type": "code",
   "execution_count": 108,
   "metadata": {},
   "outputs": [],
   "source": [
    "train_data = pd.DataFrame(x_train, y_train)\n",
    "train_data['y'] = y_train\n",
    "x_test=np.array(x_test)\n",
    "y_test=np.array(y_test)"
   ]
  },
  {
   "cell_type": "code",
   "execution_count": 109,
   "metadata": {},
   "outputs": [
    {
     "data": {
      "image/png": "[encoded data removed]",
      "text/plain": [
       "<Figure size 432x288 with 1 Axes>"
      ]
     },
     "metadata": {
      "needs_background": "light"
     },
     "output_type": "display_data"
    },
    {
     "name": "stdout",
     "output_type": "stream",
     "text": [
      "Mean Squared Error : 3.8191500061238247e+52\n"
     ]
    }
   ],
   "source": [
    "w, b = sgd_regression(train_data,learning_rate=1,n_iter=100,divideby=2,k=10)\n",
    "y_pred_customsgd=sgd_predict(x_test,w,b)\n",
    "\n",
    "plt.scatter(y_test,y_pred_customsgd)\n",
    "plt.grid()\n",
    "plt.xlabel('Actual y')\n",
    "plt.ylabel('Predicted y')\n",
    "plt.title('Scatter plot from actual y and predicted y')\n",
    "plt.show()\n",
    "print('Mean Squared Error :',mean_squared_error(y_test, y_pred_customsgd))"
   ]
  },
  {
   "cell_type": "markdown",
   "metadata": {},
   "source": [
    "### Απαντήσεις\n",
    "\n",
    "Μέσω της εφαρμογής του stochastic gradient descent πάνω και στα δύο dataset της άσκησης, φαίνεται ξεκάθαρα η επιρροή που έχει το normalization των δεδομένων πάνω στα αποτελέσματα, καθώς στις περιπτώσεις που δεν έγινε normalization το Mean Squared Error είναι πραγματικά πολύ υψηλό. \n",
    "\n",
    "Σχετικά με το learning rate και τον αριθμό των εποχών, φάνηκε πως ένα learning rate κοντά στο 0.1 και 100 εποχες δίνουν ικανοποιητικά αποτελέσματα εκπαίδευσης."
   ]
  }
 ],
 "metadata": {
  "colab": {
   "name": "Stochastic_Processes_&_Optimization_in_Machine_Learning_(Lab_1_Linear_Regression).ipynb",
   "provenance": []
  },
  "kernelspec": {
   "display_name": "Python 3 (ipykernel)",
   "language": "python",
   "name": "python3"
  },
  "language_info": {
   "codemirror_mode": {
    "name": "ipython",
    "version": 3
   },
   "file_extension": ".py",
   "mimetype": "text/x-python",
   "name": "python",
   "nbconvert_exporter": "python",
   "pygments_lexer": "ipython3",
   "version": "3.9.7"
  }
 },
 "nbformat": 4,
 "nbformat_minor": 1
}
