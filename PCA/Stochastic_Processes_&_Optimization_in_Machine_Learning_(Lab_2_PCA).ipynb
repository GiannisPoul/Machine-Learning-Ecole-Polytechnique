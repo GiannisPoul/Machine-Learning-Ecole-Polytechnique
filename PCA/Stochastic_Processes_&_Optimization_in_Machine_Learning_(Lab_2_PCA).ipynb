{
 "cells": [
  {
   "cell_type": "markdown",
   "metadata": {
    "id": "s_xjbOW-TkC3"
   },
   "source": [
    "<h1><b><i>Principal Component Analysis</i> (<i>PCA</i>) </b></h1>\n",
    "\n",
    "<p>Στην άσκηση αυτή θα μελετήσετε τον αλγόριθμο <b><i>ανάλυσης σε κύριες συνιστώσες</i></b> (<b><i>Principal Component Analysis</i></b>, <b><i>PCA</i></b>), υλοποιημένο σύμφωνα με τη <b><i>μέθοδο συνδιακύμανσης</i></b> (<b><i>covariance method</i></b>). Για να κατανοήσετε τη χρησιμότητα της μεθόδου θα εκπαιδεύσετε και θα αξιολογήσετε την ακρίβεια ενός μοντέλου <b><i>logistic regression</i></b> για ένα dataset πριν και μετά την εφαρμογή του αλγορίθμου <b><i>PCA</i></b>. Περισσότερες πληροφορίες για τη μέθοδο αυτή μπορείτε να αναζητήσετε <a href=\"https://ourarchive.otago.ac.nz/handle/10523/7534\">εδώ</a>.</p>\n",
    "\n",
    "<p>Η άσκηση περιλαμβάνει <b><i>δύο</i></b> προγράμματα <i>Python</i>: (a) το πρώτο δέχεται ένα dataset σε μορφή .<i>csv</i>, εφαρμόζει τον αλγόριθμο <b><i>PCA</i></b> και δημιουργεί το αρχείο <b><i>foo.csv</i></b> με το μετασχηματισμένο dataset, όπως προκύπτει από τις κύριες συνιστώσες που επέλεξε ο χρήστης να διατηρήσει, (b) το δεύτερο δέχεται ένα αρχείο σε μορφή .<i>csv</i>, διαχωρίζει το dataset σε <i>training</i> και <i>test set</i>, εκπαιδεύει ένα μοντέλο <b><i>logistic regression</i></b>, χρησιμοποιώντας το <i>training set</i> και υπολογίζει τον αριθμό των σφαλμάτων του μοντέλου πάνω στο <i>test set</i>.</p>\n",
    "\n",
    "<p>Το dataset που θα χρησιμοποιήσετε παρέχεται σε δύο μορφές: (a) <b><i><a href=\"https://raw.githubusercontent.com/nkostopoulos/StochasticsLabPublic/master/lab2/demo3a.csv\">demo3a.csv</a></i></b> και (b) <b><i><a href=\"https://github.com/nkostopoulos/StochasticsLabPublic/blob/master/lab2/demo3b.csv\">demo3b.csv</a></i></b>, το οποίο δεν περιλαμβάνει την πρώτη στήλη του <b><i><a href=\"https://raw.githubusercontent.com/nkostopoulos/StochasticsLabPublic/master/lab2/demo3a.csv\">demo3a.csv</a></i></b>, δηλαδή τα <i>labels</i> που αντιστοιχούν σε κάθε είσοδο. Τα datasets αυτά αποτελούν απλοποιημένη μορφή του dataset που μπορεί να βρεθεί <a href=\"https://archive.ics.uci.edu/ml/datasets/wine\">εδώ</a>.</p>\n",
    "\n",
    "<h3><b><i>Ανάλυση σε Κύριες Συνιστώσες</i></b></h3>\n",
    "<p>Αρχικά, θα φορτώσετε τις βιβλιοθήκες που απαιτούνται για το πρόγραμμα που θα αναλύσει το dataset <b><i><a href=\"https://github.com/nkostopoulos/StochasticsLabPublic/blob/master/lab2/demo3b.csv\">demo3b.csv</a></i></b> στις κύριες συνιστώσες του.</p>\n",
    "\n",
    "\n"
   ]
  },
  {
   "cell_type": "code",
   "execution_count": 1,
   "metadata": {
    "colab": {
     "base_uri": "https://localhost:8080/"
    },
    "id": "KDcaQZ2ofeum",
    "outputId": "becc8350-a05e-4b48-8e78-6d366c1020a2"
   },
   "outputs": [
    {
     "name": "stdout",
     "output_type": "stream",
     "text": [
      "Requirement already satisfied: numpy in c:\\programdata\\anaconda3\\lib\\site-packages (1.20.3)\n"
     ]
    }
   ],
   "source": [
    "!pip install numpy\n",
    "#https://machinelearningmastery.com/calculate-principal-component-analysis-scratch-python/\n",
    "from numpy import genfromtxt\n",
    "from numpy import mean\n",
    "from numpy import cov\n",
    "from numpy.linalg import eig\n",
    "import numpy as np"
   ]
  },
  {
   "cell_type": "markdown",
   "metadata": {
    "id": "pMilxe9Uf-WT"
   },
   "source": [
    "<p>Στη συνέχεια, θα φορτώσετε το dataset <b><i></i></b></p>"
   ]
  },
  {
   "cell_type": "code",
   "execution_count": 2,
   "metadata": {
    "id": "k92Gv9dwftZp"
   },
   "outputs": [],
   "source": [
    "data = genfromtxt('https://raw.githubusercontent.com/nkostopoulos/StochasticsLabPublic/master/lab2/demo3a.csv', delimiter=',')"
   ]
  },
  {
   "cell_type": "markdown",
   "metadata": {
    "id": "ydl-AyxahG2b"
   },
   "source": [
    "<p>Έπειτα, θα υπολογίσετε το μέσο όρο κάθε στήλης (feature) του dataset και θα κανονικοποιήσετε κάθε feature με αυτόν</p>"
   ]
  },
  {
   "cell_type": "code",
   "execution_count": 3,
   "metadata": {
    "id": "QU4TQXw2g4xF"
   },
   "outputs": [],
   "source": [
    "M = mean(data.T, axis=1)\n",
    "data_normal = data - M"
   ]
  },
  {
   "cell_type": "markdown",
   "metadata": {
    "id": "BYWD8ozQh-h8"
   },
   "source": [
    "<p>Στη συνέχεια, θα υπολογίσετε το <b><i>πίνακα συνδιακύμανσης</i></b> (<b><i>covariance matrix</i></b>) για το dataset</p>"
   ]
  },
  {
   "cell_type": "code",
   "execution_count": 4,
   "metadata": {
    "colab": {
     "base_uri": "https://localhost:8080/"
    },
    "id": "N3B6Pw6diHxe",
    "outputId": "6d1dd2f9-51c8-4d04-9817-49fc519805fa"
   },
   "outputs": [
    {
     "name": "stdout",
     "output_type": "stream",
     "text": [
      "The covariance matrix of the normalized data is the following: \n",
      "[[ 2.49791294e-01 -3.66197376e-01 -1.94841980e-02 -5.26571258e-02\n",
      "   7.99516995e-01 -2.94496124e+00 -1.45202743e-01 -2.25193798e-01\n",
      "   1.84001193e-02 -6.72039356e-02 -6.09911747e-01 -1.43685152e-03\n",
      "  -9.30333930e-02 -1.48926774e+02]\n",
      " [-3.66197376e-01  7.89911157e-01  1.64350328e-02  5.03965534e-02\n",
      "  -1.39557561e+00  4.51870543e+00  2.35123047e-01  3.56524806e-01\n",
      "  -2.92133512e-02  9.15320632e-02  1.07205560e+00  3.92238044e-03\n",
      "   1.22678110e-01  2.36909466e+02]\n",
      " [-1.94841980e-02  1.64350328e-02  7.74344335e-01  3.18039952e-02\n",
      "   4.24165474e-01 -2.21434109e-01  1.44160704e-02  3.75581395e-02\n",
      "   5.34385808e-03  6.47891175e-02 -1.54797734e-01 -6.06599761e-02\n",
      "   6.96007454e-02 -3.33629219e+01]\n",
      " [-5.26571258e-02  5.03965534e-02  3.18039952e-02  8.83052117e-02\n",
      "   3.73006798e-01  1.40136434e+00  4.12452594e-02  8.26573643e-02\n",
      "   5.81539654e-03  1.24709839e-02  1.22397007e-01  2.06346094e-03\n",
      "   3.02871079e-02  3.18556160e+01]\n",
      " [ 7.99516995e-01 -1.39557561e+00  4.24165474e-01  3.73006798e-01\n",
      "   1.15631181e+01 -6.46193798e+00 -4.24464222e-01 -4.52046512e-01\n",
      "   1.24282469e-01 -1.77910614e-01 -2.39565069e+00 -2.05387955e-02\n",
      "  -1.02069171e-03 -5.11872284e+02]\n",
      " [-2.94496124e+00  4.51870543e+00 -2.21434109e-01  1.40136434e+00\n",
      "  -6.46193798e+00  2.36586822e+02  2.55096899e+00  2.89720930e+00\n",
      "  -3.57263566e-01  2.30737209e+00  8.63970543e+00  1.85996899e-01\n",
      "   9.56255814e-01  2.31515659e+03]\n",
      " [-1.45202743e-01  2.35123047e-01  1.44160704e-02  4.12452594e-02\n",
      "  -4.24464222e-01  2.55096899e+00  2.97453936e-01  3.40611628e-01\n",
      "  -2.64587657e-02  1.30694305e-01  5.23527370e-01 -7.63816339e-04\n",
      "   1.28195856e-01  9.73171139e+01]\n",
      " [-2.25193798e-01  3.56524806e-01  3.75581395e-02  8.26573643e-02\n",
      "  -4.52046512e-01  2.89720930e+00  3.40611628e-01  5.44297674e-01\n",
      "  -2.88767442e-02  2.16111628e-01  8.48084496e-01 -8.24186047e-04\n",
      "   1.88436434e-01  1.41942171e+02]\n",
      " [ 1.84001193e-02 -2.92133512e-02  5.34385808e-03  5.81539654e-03\n",
      "   1.24282469e-01 -3.57263566e-01 -2.64587657e-02 -2.88767442e-02\n",
      "   1.18999463e-02 -1.98501670e-02 -4.97212642e-02  9.44753727e-04\n",
      "  -2.42901670e-02 -1.26918819e+01]\n",
      " [-6.72039356e-02  9.15320632e-02  6.47891175e-02  1.24709839e-02\n",
      "  -1.77910614e-01  2.30737209e+00  1.30694305e-01  2.16111628e-01\n",
      "  -1.98501670e-02  2.91137680e-01  2.39266834e-01 -9.77493143e-04\n",
      "   8.78196959e-02  5.22928014e+01]\n",
      " [-6.09911747e-01  1.07205560e+00 -1.54797734e-01  1.22397007e-01\n",
      "  -2.39565069e+00  8.63970543e+00  5.23527370e-01  8.48084496e-01\n",
      "  -4.97212642e-02  2.39266834e-01  2.64316778e+00  2.68330829e-03\n",
      "   1.60809159e-01  4.44340177e+02]\n",
      " [-1.43685152e-03  3.92238044e-03 -6.06599761e-02  2.06346094e-03\n",
      "  -2.05387955e-02  1.85996899e-01 -7.63816339e-04 -8.24186047e-04\n",
      "   9.44753727e-04 -9.77493143e-04  2.68330829e-03  2.84562519e-02\n",
      "  -8.13836136e-03  6.93777746e+00]\n",
      " [-9.30333930e-02  1.22678110e-01  6.96007454e-02  3.02871079e-02\n",
      "  -1.02069171e-03  9.56255814e-01  1.28195856e-01  1.88436434e-01\n",
      "  -2.42901670e-02  8.78196959e-02  1.60809159e-01 -8.13836136e-03\n",
      "   2.25782952e-01  3.83903673e+01]\n",
      " [-1.48926774e+02  2.36909466e+02 -3.33629219e+01  3.18556160e+01\n",
      "  -5.11872284e+02  2.31515659e+03  9.73171139e+01  1.41942171e+02\n",
      "  -1.26918819e+01  5.22928014e+01  4.44340177e+02  6.93777746e+00\n",
      "   3.83903673e+01  1.24265433e+05]]\n"
     ]
    }
   ],
   "source": [
    "covariance = cov(data_normal.T)\n",
    "print(\"The covariance matrix of the normalized data is the following: \")\n",
    "print(covariance)"
   ]
  },
  {
   "cell_type": "markdown",
   "metadata": {
    "id": "rFxfxGxbiPsm"
   },
   "source": [
    "<p>Το επόμενο βήμα είναι να υπολογίσετε τις <b><i>ιδιοτιμές</i></b> (<b><i>eigenvalues</i></b>) και τα <b><i>ιδιοδιανύσματα</i></b> (<b><i>eigenvectors</i></b>) του dataset.</p>"
   ]
  },
  {
   "cell_type": "code",
   "execution_count": 5,
   "metadata": {
    "colab": {
     "base_uri": "https://localhost:8080/"
    },
    "id": "nyqu1myLieP3",
    "outputId": "f94f094b-666e-4f48-b424-0ef434307cc6"
   },
   "outputs": [
    {
     "name": "stdout",
     "output_type": "stream",
     "text": [
      "The eigenvalues of the normalized data are the following: \n",
      "[1.24313252e+05 1.93456164e+02 9.50563296e+00 1.33567034e+00\n",
      " 8.15989216e-01 4.51153464e-01 2.80890139e-01 1.61655688e-01\n",
      " 1.12514038e-01 6.72647125e-02 6.11875521e-03 3.54255416e-02\n",
      " 2.17062589e-02 2.56384723e-02]\n"
     ]
    }
   ],
   "source": [
    "values, vectors = eig(covariance)\n",
    "print(\"The eigenvalues of the normalized data are the following: \")\n",
    "print(values)"
   ]
  },
  {
   "cell_type": "markdown",
   "metadata": {
    "id": "51_NKEP2imoW"
   },
   "source": [
    "<p>Στη συνέχεια, θα επιλέξετε τις πιο σημαντικές <b><i>ιδιοτιμές</i></b> και θα προσαρμόσετε αντίστοιχα τα <b><i>ιδιοδιανύσματα</i></b> του dataset.</p>"
   ]
  },
  {
   "cell_type": "code",
   "execution_count": 6,
   "metadata": {
    "colab": {
     "base_uri": "https://localhost:8080/"
    },
    "id": "Dee3ENf1i4Lx",
    "outputId": "7dc7eff2-c93c-44f0-c772-f8db18ea1bad"
   },
   "outputs": [
    {
     "name": "stdout",
     "output_type": "stream",
     "text": [
      "The most important eigenvalues are the following: \n",
      "[1.24313252e+05 1.93456164e+02 9.50563296e+00]\n",
      "The most important eigenvectors are the following: \n",
      "[[-1.19826274e-03  8.45369320e-04 -2.04593259e-02 -9.16887698e-02\n",
      "   8.33975552e-02 -1.34819384e-02 -2.19214988e-01 -7.03983647e-02\n",
      "   1.34751318e-01 -4.48766071e-01 -2.36581772e-02 -4.77218123e-01\n",
      "   1.97325140e-01  6.66514380e-01]\n",
      " [ 1.90615509e-03 -4.75679523e-04  4.71671268e-02  2.28853894e-01\n",
      "  -9.99121722e-02  2.23154267e-01  8.12667617e-01 -3.97970963e-01\n",
      "   1.97143957e-01 -7.69575548e-02 -9.62324438e-03 -6.17373349e-02\n",
      "   5.59189484e-02  1.22426496e-01]\n",
      " [-2.68378249e-04 -2.11144096e-03 -3.20297278e-02  1.34288483e-01\n",
      "  -9.09586120e-01  3.04731779e-01 -2.10599542e-01  7.04589362e-02\n",
      "   2.63512853e-02 -4.52285627e-02 -1.24786243e-02 -4.00657306e-02\n",
      "  -7.61723120e-02  3.32860590e-02]]\n"
     ]
    }
   ],
   "source": [
    "new_values = values[0:3]\n",
    "print(\"The most important eigenvalues are the following: \")\n",
    "print(new_values)\n",
    "new_vectors = vectors[0:3]\n",
    "print(\"The most important eigenvectors are the following: \")\n",
    "print(new_vectors)"
   ]
  },
  {
   "cell_type": "markdown",
   "metadata": {
    "id": "6IVdHr-Ti-O5"
   },
   "source": [
    "<p>Τώρα, θα εφαρμόσετε τα νέα <b><i>ιδιοδιανύσματα</i></b> στο παλιό dataset για να πάρετε το νέο, μειωμένο σε μέγεθος dataset.</p>"
   ]
  },
  {
   "cell_type": "code",
   "execution_count": 7,
   "metadata": {
    "id": "HtJouKmSjPbD"
   },
   "outputs": [],
   "source": [
    "new_data = new_vectors.dot(data_normal.T)"
   ]
  },
  {
   "cell_type": "markdown",
   "metadata": {
    "id": "o5B93KQ3jTpf"
   },
   "source": [
    "<p>Να αποθηκεύσετε το νέο dataset σε ένα αρχείο <i>csv</i>.</p>"
   ]
  },
  {
   "cell_type": "code",
   "execution_count": 8,
   "metadata": {
    "id": "W1uY6kFWjflf"
   },
   "outputs": [],
   "source": [
    "np.savetxt(\"foo.csv\", new_data.T, delimiter=\",\")"
   ]
  },
  {
   "cell_type": "markdown",
   "metadata": {
    "id": "8u085fpWjnPD"
   },
   "source": [
    "<h4><b><i>Ερωτήσεις</i></b></h4>\n",
    "<ul>\n",
    "<li>Να μελετήσετε το παραπάνω πρόγραμμα και να περιγράψετε, σύντομα, τα βήματα που ακολουθεί ο αλγόριθμος <b><i>PCA</i></b>, υλοποιημένος με τη μέθοδο <b><i>covariance</i></b>. Να συμπεριλάβετε και τις μαθηματικές πράξεις.</li>\n",
    "<li>Να εφαρμόσετε τον αλγόριθμο <b><i>PCA</i></b> πάνω στα δεδομένα του αρχείου <i><a href=\"https://github.com/nkostopoulos/StochasticsLabPublic/blob/master/lab2/demo3b.csv\">demo3b.csv</a></i>. Στη συνέχεια, να καταγράψετε τον <i>πίνακα συνδιακύμανσης</i> του dataset και τις ιδιοτιμές του πίνακα αυτού. Τι υποδηλώνουν οι θετικές και τι οι αρνητικές τιμές του <i>πίνακα συνδιακύμανσης</i>; Να διατάξετε τις <i>ιδιοτιμές</i> σε φθίνουσα σειρά. Τι παρατηρείτε για τις τρεις πρώτες σε σχέση με τις υπόλοιπες; Πόσες <i>κύριες συνιστώσες</i> επιλέγει να διατηρήσει ο αλγόριθμος;</li>\n",
    "</ul>"
   ]
  },
  {
   "cell_type": "code",
   "execution_count": 9,
   "metadata": {},
   "outputs": [],
   "source": [
    "data = genfromtxt('https://raw.githubusercontent.com/nkostopoulos/StochasticsLabPublic/master/lab2/demo3b.csv', delimiter=',')"
   ]
  },
  {
   "cell_type": "code",
   "execution_count": 10,
   "metadata": {},
   "outputs": [
    {
     "name": "stdout",
     "output_type": "stream",
     "text": [
      "The covariance matrix of the normalized data is the following: \n",
      "[[ 2.49791294e-01 -3.66197376e-01 -1.94841980e-02 -5.26571258e-02\n",
      "   7.99516995e-01 -2.94496124e+00 -1.45202743e-01 -2.25193798e-01\n",
      "   1.84001193e-02 -6.72039356e-02 -6.09911747e-01 -1.43685152e-03\n",
      "  -9.30333930e-02 -1.48926774e+02]\n",
      " [-3.66197376e-01  7.89911157e-01  1.64350328e-02  5.03965534e-02\n",
      "  -1.39557561e+00  4.51870543e+00  2.35123047e-01  3.56524806e-01\n",
      "  -2.92133512e-02  9.15320632e-02  1.07205560e+00  3.92238044e-03\n",
      "   1.22678110e-01  2.36909466e+02]\n",
      " [-1.94841980e-02  1.64350328e-02  7.74344335e-01  3.18039952e-02\n",
      "   4.24165474e-01 -2.21434109e-01  1.44160704e-02  3.75581395e-02\n",
      "   5.34385808e-03  6.47891175e-02 -1.54797734e-01 -6.06599761e-02\n",
      "   6.96007454e-02 -3.33629219e+01]\n",
      " [-5.26571258e-02  5.03965534e-02  3.18039952e-02  8.83052117e-02\n",
      "   3.73006798e-01  1.40136434e+00  4.12452594e-02  8.26573643e-02\n",
      "   5.81539654e-03  1.24709839e-02  1.22397007e-01  2.06346094e-03\n",
      "   3.02871079e-02  3.18556160e+01]\n",
      " [ 7.99516995e-01 -1.39557561e+00  4.24165474e-01  3.73006798e-01\n",
      "   1.15631181e+01 -6.46193798e+00 -4.24464222e-01 -4.52046512e-01\n",
      "   1.24282469e-01 -1.77910614e-01 -2.39565069e+00 -2.05387955e-02\n",
      "  -1.02069171e-03 -5.11872284e+02]\n",
      " [-2.94496124e+00  4.51870543e+00 -2.21434109e-01  1.40136434e+00\n",
      "  -6.46193798e+00  2.36586822e+02  2.55096899e+00  2.89720930e+00\n",
      "  -3.57263566e-01  2.30737209e+00  8.63970543e+00  1.85996899e-01\n",
      "   9.56255814e-01  2.31515659e+03]\n",
      " [-1.45202743e-01  2.35123047e-01  1.44160704e-02  4.12452594e-02\n",
      "  -4.24464222e-01  2.55096899e+00  2.97453936e-01  3.40611628e-01\n",
      "  -2.64587657e-02  1.30694305e-01  5.23527370e-01 -7.63816339e-04\n",
      "   1.28195856e-01  9.73171139e+01]\n",
      " [-2.25193798e-01  3.56524806e-01  3.75581395e-02  8.26573643e-02\n",
      "  -4.52046512e-01  2.89720930e+00  3.40611628e-01  5.44297674e-01\n",
      "  -2.88767442e-02  2.16111628e-01  8.48084496e-01 -8.24186047e-04\n",
      "   1.88436434e-01  1.41942171e+02]\n",
      " [ 1.84001193e-02 -2.92133512e-02  5.34385808e-03  5.81539654e-03\n",
      "   1.24282469e-01 -3.57263566e-01 -2.64587657e-02 -2.88767442e-02\n",
      "   1.18999463e-02 -1.98501670e-02 -4.97212642e-02  9.44753727e-04\n",
      "  -2.42901670e-02 -1.26918819e+01]\n",
      " [-6.72039356e-02  9.15320632e-02  6.47891175e-02  1.24709839e-02\n",
      "  -1.77910614e-01  2.30737209e+00  1.30694305e-01  2.16111628e-01\n",
      "  -1.98501670e-02  2.91137680e-01  2.39266834e-01 -9.77493143e-04\n",
      "   8.78196959e-02  5.22928014e+01]\n",
      " [-6.09911747e-01  1.07205560e+00 -1.54797734e-01  1.22397007e-01\n",
      "  -2.39565069e+00  8.63970543e+00  5.23527370e-01  8.48084496e-01\n",
      "  -4.97212642e-02  2.39266834e-01  2.64316778e+00  2.68330829e-03\n",
      "   1.60809159e-01  4.44340177e+02]\n",
      " [-1.43685152e-03  3.92238044e-03 -6.06599761e-02  2.06346094e-03\n",
      "  -2.05387955e-02  1.85996899e-01 -7.63816339e-04 -8.24186047e-04\n",
      "   9.44753727e-04 -9.77493143e-04  2.68330829e-03  2.84562519e-02\n",
      "  -8.13836136e-03  6.93777746e+00]\n",
      " [-9.30333930e-02  1.22678110e-01  6.96007454e-02  3.02871079e-02\n",
      "  -1.02069171e-03  9.56255814e-01  1.28195856e-01  1.88436434e-01\n",
      "  -2.42901670e-02  8.78196959e-02  1.60809159e-01 -8.13836136e-03\n",
      "   2.25782952e-01  3.83903673e+01]\n",
      " [-1.48926774e+02  2.36909466e+02 -3.33629219e+01  3.18556160e+01\n",
      "  -5.11872284e+02  2.31515659e+03  9.73171139e+01  1.41942171e+02\n",
      "  -1.26918819e+01  5.22928014e+01  4.44340177e+02  6.93777746e+00\n",
      "   3.83903673e+01  1.24265433e+05]]\n"
     ]
    }
   ],
   "source": [
    "covariance = cov(data_normal.T)\n",
    "print(\"The covariance matrix of the normalized data is the following: \")\n",
    "print(covariance)"
   ]
  },
  {
   "cell_type": "code",
   "execution_count": 11,
   "metadata": {},
   "outputs": [
    {
     "name": "stdout",
     "output_type": "stream",
     "text": [
      "The eigenvalues of the normalized data are the following: \n",
      "[1.24313252e+05 1.93456164e+02 9.50563296e+00 1.33567034e+00\n",
      " 8.15989216e-01 4.51153464e-01 2.80890139e-01 1.61655688e-01\n",
      " 1.12514038e-01 6.72647125e-02 6.11875521e-03 3.54255416e-02\n",
      " 2.17062589e-02 2.56384723e-02]\n"
     ]
    }
   ],
   "source": [
    "values, vectors = eig(covariance)\n",
    "print(\"The eigenvalues of the normalized data are the following: \")\n",
    "print(values)"
   ]
  },
  {
   "cell_type": "code",
   "execution_count": 12,
   "metadata": {},
   "outputs": [
    {
     "name": "stdout",
     "output_type": "stream",
     "text": [
      "The most important eigenvalues are the following: \n",
      "[1.24313252e+05 1.93456164e+02 9.50563296e+00]\n",
      "The most important eigenvectors are the following: \n",
      "[[-1.19826274e-03  8.45369320e-04 -2.04593259e-02 -9.16887698e-02\n",
      "   8.33975552e-02 -1.34819384e-02 -2.19214988e-01 -7.03983647e-02\n",
      "   1.34751318e-01 -4.48766071e-01 -2.36581772e-02 -4.77218123e-01\n",
      "   1.97325140e-01  6.66514380e-01]\n",
      " [ 1.90615509e-03 -4.75679523e-04  4.71671268e-02  2.28853894e-01\n",
      "  -9.99121722e-02  2.23154267e-01  8.12667617e-01 -3.97970963e-01\n",
      "   1.97143957e-01 -7.69575548e-02 -9.62324438e-03 -6.17373349e-02\n",
      "   5.59189484e-02  1.22426496e-01]\n",
      " [-2.68378249e-04 -2.11144096e-03 -3.20297278e-02  1.34288483e-01\n",
      "  -9.09586120e-01  3.04731779e-01 -2.10599542e-01  7.04589362e-02\n",
      "   2.63512853e-02 -4.52285627e-02 -1.24786243e-02 -4.00657306e-02\n",
      "  -7.61723120e-02  3.32860590e-02]]\n"
     ]
    }
   ],
   "source": [
    "new_values = values[0:3]\n",
    "print(\"The most important eigenvalues are the following: \")\n",
    "print(new_values)\n",
    "new_vectors = vectors[0:3]\n",
    "print(\"The most important eigenvectors are the following: \")\n",
    "print(new_vectors)"
   ]
  },
  {
   "cell_type": "markdown",
   "metadata": {
    "id": "DBRxVL9BmqGw"
   },
   "source": [
    "<h3><b><i>Logistic Regression</i></b></h3>\n",
    "\n",
    "<p>Αρχικά, θα φορτώσετε τις απαραίτητες βιβλιοθήκες.</p>"
   ]
  },
  {
   "cell_type": "code",
   "execution_count": 13,
   "metadata": {
    "colab": {
     "base_uri": "https://localhost:8080/"
    },
    "id": "MiGjiOEQnpwn",
    "outputId": "873770f3-c5cf-404a-be17-4345deb0a90f"
   },
   "outputs": [
    {
     "name": "stdout",
     "output_type": "stream",
     "text": [
      "Requirement already satisfied: pandas in c:\\programdata\\anaconda3\\lib\\site-packages (1.3.4)\n",
      "Requirement already satisfied: pytz>=2017.3 in c:\\programdata\\anaconda3\\lib\\site-packages (from pandas) (2021.3)\n",
      "Requirement already satisfied: numpy>=1.17.3 in c:\\programdata\\anaconda3\\lib\\site-packages (from pandas) (1.20.3)\n",
      "Requirement already satisfied: python-dateutil>=2.7.3 in c:\\programdata\\anaconda3\\lib\\site-packages (from pandas) (2.8.2)\n",
      "Requirement already satisfied: six>=1.5 in c:\\programdata\\anaconda3\\lib\\site-packages (from python-dateutil>=2.7.3->pandas) (1.16.0)\n",
      "Requirement already satisfied: numpy in c:\\programdata\\anaconda3\\lib\\site-packages (1.20.3)\n",
      "Requirement already satisfied: matplotlib in c:\\programdata\\anaconda3\\lib\\site-packages (3.4.3)\n",
      "Requirement already satisfied: cycler>=0.10 in c:\\programdata\\anaconda3\\lib\\site-packages (from matplotlib) (0.10.0)\n",
      "Requirement already satisfied: pillow>=6.2.0 in c:\\programdata\\anaconda3\\lib\\site-packages (from matplotlib) (8.4.0)\n",
      "Requirement already satisfied: numpy>=1.16 in c:\\programdata\\anaconda3\\lib\\site-packages (from matplotlib) (1.20.3)\n",
      "Requirement already satisfied: kiwisolver>=1.0.1 in c:\\programdata\\anaconda3\\lib\\site-packages (from matplotlib) (1.3.1)\n",
      "Requirement already satisfied: pyparsing>=2.2.1 in c:\\programdata\\anaconda3\\lib\\site-packages (from matplotlib) (3.0.4)\n",
      "Requirement already satisfied: python-dateutil>=2.7 in c:\\programdata\\anaconda3\\lib\\site-packages (from matplotlib) (2.8.2)\n",
      "Requirement already satisfied: six in c:\\programdata\\anaconda3\\lib\\site-packages (from cycler>=0.10->matplotlib) (1.16.0)\n",
      "Requirement already satisfied: sklearn in c:\\programdata\\anaconda3\\lib\\site-packages (0.0)\n",
      "Requirement already satisfied: scikit-learn in c:\\programdata\\anaconda3\\lib\\site-packages (from sklearn) (0.24.2)\n",
      "Requirement already satisfied: numpy>=1.13.3 in c:\\programdata\\anaconda3\\lib\\site-packages (from scikit-learn->sklearn) (1.20.3)\n",
      "Requirement already satisfied: joblib>=0.11 in c:\\programdata\\anaconda3\\lib\\site-packages (from scikit-learn->sklearn) (1.1.0)\n",
      "Requirement already satisfied: threadpoolctl>=2.0.0 in c:\\programdata\\anaconda3\\lib\\site-packages (from scikit-learn->sklearn) (2.2.0)\n",
      "Requirement already satisfied: scipy>=0.19.1 in c:\\programdata\\anaconda3\\lib\\site-packages (from scikit-learn->sklearn) (1.7.1)\n"
     ]
    }
   ],
   "source": [
    "!pip install pandas\n",
    "!pip install numpy\n",
    "!pip install matplotlib\n",
    "!pip install sklearn\n",
    "import pandas as pd\n",
    "import numpy as np\n",
    "import matplotlib.pyplot as plt\n",
    "from sklearn.model_selection import train_test_split\n",
    "from sklearn.decomposition import PCA\n",
    "from sklearn.preprocessing import StandardScaler\n",
    "from sklearn.linear_model import LogisticRegression"
   ]
  },
  {
   "cell_type": "markdown",
   "metadata": {
    "id": "JnNo_v4Jn3gn"
   },
   "source": [
    "Στη συνέχεια, θα φορτώσετε τα datasets που θα χρησιμοποιηθούν για την εκπαίδευση του μοντέλου <b><i>logistic regression</i></b>. Στην πρώτη περίπτωση, θα εκπαιδεύσετε το μοντέλο, χρησιμοποιώντας το αρχείο <i><a href=\"https://raw.githubusercontent.com/nkostopoulos/StochasticsLabPublic/master/lab2/demo3a.csv\">demo3a.csv</a></i>. Στη δεύτερη περίπτωση, θα φορτώσετε το αρχείο <i>foo.csv</i> που πήρατε ως έξοδο από το προηγούμενο τμήμα κώδικα της άσκησης (<i>Ανάλυση σε Κύριες Συνιστώσες</i>), προσθέτοντας στην πρώτη στήλη του αρχείου τα labels που υπάρχουν στην πρώτη στήλη του αρχείου <a href=\"https://raw.githubusercontent.com/nkostopoulos/StochasticsLabPublic/master/lab2/demo3a.csv\"><i>demo3a.csv</i></a>."
   ]
  },
  {
   "cell_type": "code",
   "execution_count": 14,
   "metadata": {
    "id": "7cJDDmjxpSTT"
   },
   "outputs": [],
   "source": [
    "df = pd.read_csv(\"https://raw.githubusercontent.com/nkostopoulos/StochasticsLabPublic/master/lab2/demo3a.csv\")\n",
    "#df = pd.read_csv(\"foo.csv\")"
   ]
  },
  {
   "cell_type": "markdown",
   "metadata": {
    "id": "nyQn9Hjapdjj"
   },
   "source": [
    "<p>Έπειτα, θα χωρίσετε το dataset σε <i>training</i> και <i>test set</i>.</p>"
   ]
  },
  {
   "cell_type": "code",
   "execution_count": 16,
   "metadata": {
    "id": "NuWbSbVwpWUe"
   },
   "outputs": [],
   "source": [
    "# #In case of data demo3a\n",
    "# # Separate the input features from the target variable\n",
    "# x = df.iloc[:,1:13].values\n",
    "# y = df.iloc[:,0].values\n",
    "# # Split the dataset into train and test set\n",
    "# Xtrain,Xtest,Ytrain,Ytest = train_test_split(x,y, test_size = 0.2)\n",
    "\n",
    "#In case of data foo.csv uncomment below\n",
    "x = df.values\n",
    "# y is the same as previously \n",
    "Xtrain,Xtest,Ytrain,Ytest = train_test_split(x,y, test_size = 0.2)\n"
   ]
  },
  {
   "cell_type": "markdown",
   "metadata": {
    "id": "HFvPctcepyai"
   },
   "source": [
    "<p>Έπειτα, θα εκπαιδεύσετε το μοντέλο <b><i>Logistic Regression</i></b></p>"
   ]
  },
  {
   "cell_type": "code",
   "execution_count": 17,
   "metadata": {
    "colab": {
     "base_uri": "https://localhost:8080/"
    },
    "id": "cDquqsFOpuUl",
    "outputId": "74123753-408e-4a25-a67b-af204ddc24f7"
   },
   "outputs": [
    {
     "data": {
      "text/plain": [
       "LogisticRegression(max_iter=1000)"
      ]
     },
     "execution_count": 17,
     "metadata": {},
     "output_type": "execute_result"
    }
   ],
   "source": [
    "classifier = LogisticRegression(max_iter = 1000)\n",
    "classifier.fit(Xtrain,Ytrain)"
   ]
  },
  {
   "cell_type": "markdown",
   "metadata": {
    "id": "ZGx2iFUlqC4w"
   },
   "source": [
    "<p>Τέλος, θα λάβετε τις προβλέψεις του μοντέλου που εκπαιδεύσατε πάνω στο test set και θα υπολογίσετε τα συνολικά λάθη.</p>"
   ]
  },
  {
   "cell_type": "code",
   "execution_count": 18,
   "metadata": {
    "colab": {
     "base_uri": "https://localhost:8080/"
    },
    "id": "opOmr-vCqOKL",
    "outputId": "99217e4f-1332-44af-d2dd-cdad4095e87c"
   },
   "outputs": [
    {
     "name": "stdout",
     "output_type": "stream",
     "text": [
      "Total errors on the test dataset\n",
      "1\n"
     ]
    }
   ],
   "source": [
    "# Get the predictions on the test set\n",
    "prediction = classifier.predict(Xtest)\n",
    "\n",
    "# Calculate the total number of errors on the test set\n",
    "errors = 0\n",
    "for index in range(0,len(prediction) - 1):\n",
    "\tif prediction[index] != Ytest[index]:\n",
    "\t\terrors += 1\n",
    "        \n",
    "print(\"Total errors on the test dataset\")\n",
    "print(errors)"
   ]
  },
  {
   "cell_type": "markdown",
   "metadata": {
    "id": "xRVRieelqVsA"
   },
   "source": [
    "<h4><b><i>Ερώτηση</i></b></h4>\n",
    "<p>Να εκτελέσετε παραπάνω τμήματα κώδικα με είσοδο τα αρχεία (a) <i><a href=\"https://raw.githubusercontent.com/nkostopoulos/StochasticsLabPublic/master/lab2/demo3a.csv\">demo3a.csv</a></i> και (b) <i>foo.csv</i>. Τι παρατηρείτε για την ακρίβεια του μοντέλου στις δύο περιπτώσεις; Δοκιμάστε και για την περίπτωση που κρατάμε (α) 1 και (β) 2 <i>κύριες συνιστώσες</i>. Τι παρατηρείτε;</p>\n",
    "\n",
    "Απάντηση:\n",
    "Το accuracy μεταξύ των δυο μοντέλων ήταν η ίδια καθώς και τα δύο πραγματοποίησαν 2 σφάλματα.\n"
   ]
  },
  {
   "cell_type": "markdown",
   "metadata": {
    "id": "gqPhHDExffku"
   },
   "source": [
    "<h3><b><i>Συμπληρωματικές Ερωτήσεις</i></b></h3>\n",
    "<ul>\n",
    "<li>Ποια είναι η χρησιμότητα του αλγορίθμου <b><i>PCA</i></b> ως προς τη δυνατότητα <i>οπτικοποίησης</i> (<i>visualization</i>) των δεδομένων του dataset;</li>\n",
    "Απάντηση: Με τη μείωση της διαστατικότητας των δεδομένων σε 3 ή δύο διαστάσεις γίνεται εφικτή η αναπαράσταση των δεδομένων σε γραφήματα.\n",
    "<li>Ποια είναι η χρησιμότητα του αλγορίθμου <b><i>PCA</i></b> ως προς την ταχύτητα εκπαίδευσης του μοντέλου logistic regression; Να βασίσετε την απάντησή σας στα δύο παρακάτω τμήματα κώδικα.</li>\n",
    "</ul>\n",
    "Απάντηση: Ουσιαστίκα εφαρμόζοντας την PCA μειώνεται η διαστατικότητα των δεδομένων διατηρώντας το μεγαλύτερο μέρος της πληροφορίας που υπάρχει σε αυτά. Επομένως, το μοντέλο εκπαιδεύεται σε έιναι dataset μικρότερων διαστάσεων, το οποίο περιέχει σχεδόν την ίδια πληροφορία με το αρχικό, επομένως η όλη διαδικασία είναι οικονομικότερη υπολογιστικά."
   ]
  }
 ],
 "metadata": {
  "colab": {
   "name": "Stochastic_Processes_&_Optimization_in_Machine_Learning_(Lab_2_PCA).ipynb",
   "provenance": []
  },
  "kernelspec": {
   "display_name": "Python 3 (ipykernel)",
   "language": "python",
   "name": "python3"
  },
  "language_info": {
   "codemirror_mode": {
    "name": "ipython",
    "version": 3
   },
   "file_extension": ".py",
   "mimetype": "text/x-python",
   "name": "python",
   "nbconvert_exporter": "python",
   "pygments_lexer": "ipython3",
   "version": "3.9.7"
  }
 },
 "nbformat": 4,
 "nbformat_minor": 1
}
